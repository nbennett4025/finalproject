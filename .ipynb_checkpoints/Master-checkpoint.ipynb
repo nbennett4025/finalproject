{
 "cells": [
  {
   "cell_type": "markdown",
   "metadata": {},
   "source": [
    "# Ballot Measures Funding Local Government\n",
    "This data set shows the success rate of local government funding measures across the state of Wahsington from 2011-2017. The goal of this research is to find patterns in what voters are willing to approove to expand local government in light of property tax caps in state law."
   ]
  },
  {
   "cell_type": "markdown",
   "metadata": {},
   "source": [
    "## Descriptive Statistics\n",
    "Before any analysis is possible, we have to understand the general patterns in the data."
   ]
  },
  {
   "cell_type": "code",
   "execution_count": 2,
   "metadata": {
    "collapsed": true
   },
   "outputs": [],
   "source": [
    "import pandas as pd"
   ]
  },
  {
   "cell_type": "code",
   "execution_count": 3,
   "metadata": {
    "collapsed": true
   },
   "outputs": [],
   "source": [
    "data= 'https://github.com/nbennett4025/Data/raw/master/ballotinitiativesWA.xlsx'"
   ]
  },
  {
   "cell_type": "code",
   "execution_count": 4,
   "metadata": {},
   "outputs": [
    {
     "data": {
      "text/plain": [
       "Jurisdiction                         object\n",
       "County                               object\n",
       "Government Type                      object\n",
       "Subject                              object\n",
       "Ballot Measure Text                  object\n",
       "Election Results                     object\n",
       "Yes %                               float64\n",
       "No %                                float64\n",
       "Election Month                       object\n",
       "Election Year                         int64\n",
       "Duration in Years Levy/Fee           object\n",
       "Amount of Levy (Per $1000 A/V)      float64\n",
       "Tax Amount                          float64\n",
       "Bond Amount                         float64\n",
       "Funding Type/Statutory Authority     object\n",
       "dtype: object"
      ]
     },
     "execution_count": 4,
     "metadata": {},
     "output_type": "execute_result"
    }
   ],
   "source": [
    "ballot=pd.read_excel(data,0)\n",
    "ballot.dtypes"
   ]
  },
  {
   "cell_type": "code",
   "execution_count": 5,
   "metadata": {
    "collapsed": true
   },
   "outputs": [],
   "source": [
    "ballotyes=ballot['Yes %']"
   ]
  },
  {
   "cell_type": "markdown",
   "metadata": {},
   "source": [
    "To understand the data it is important to know that it takes a majority vote to raise taxes in a district. As the table below shows, less than 25% of measures fail."
   ]
  },
  {
   "cell_type": "code",
   "execution_count": 6,
   "metadata": {},
   "outputs": [
    {
     "data": {
      "text/plain": [
       "count    1434.000000\n",
       "mean       62.784426\n",
       "std        14.206475\n",
       "min         0.000000\n",
       "25%        54.750000\n",
       "50%        64.575000\n",
       "75%        72.442500\n",
       "max       100.000000\n",
       "Name: Yes %, dtype: float64"
      ]
     },
     "execution_count": 6,
     "metadata": {},
     "output_type": "execute_result"
    }
   ],
   "source": [
    "ballotyes.describe()"
   ]
  },
  {
   "cell_type": "code",
   "execution_count": 7,
   "metadata": {},
   "outputs": [
    {
     "data": {
      "image/png": "[encoded data removed]",
      "text/plain": [
       "<matplotlib.figure.Figure at 0x2689985a1d0>"
      ]
     },
     "metadata": {},
     "output_type": "display_data"
    }
   ],
   "source": [
    "from scipy.stats import norm\n",
    "import seaborn as sns\n",
    "import matplotlib.pyplot as plt\n",
    "\n",
    "sns.distplot(ballotyes.dropna(),kde=False,fit=norm)\n",
    "plt.legend(('data fit to normal','data as it is'))\n",
    "plt.title('How often do funding measures get 50% in WA?')\n",
    "plt.show()"
   ]
  },
  {
   "cell_type": "code",
   "execution_count": 8,
   "metadata": {},
   "outputs": [
    {
     "data": {
      "image/png": "[encoded data removed]",
      "text/plain": [
       "<matplotlib.figure.Figure at 0x2689985a2e8>"
      ]
     },
     "metadata": {},
     "output_type": "display_data"
    }
   ],
   "source": [
    "plot,dataBP=ballotyes.plot.box(vert=False,return_type='both')\n",
    "plt.title('Distribution of Ballot Measure Approval Rates 2011-2017')\n",
    "plt.show()\n",
    "#looks like the data have a longer left tail, but are generally close to being \n",
    "#'normal'. On average it seems like things get the required 60% about\n",
    "# a little more than half of the time"
   ]
  },
  {
   "cell_type": "code",
   "execution_count": 9,
   "metadata": {
    "collapsed": true
   },
   "outputs": [],
   "source": [
    "#Moving on to bi-variate analysis\n",
    "from scipy import stats"
   ]
  },
  {
   "cell_type": "markdown",
   "metadata": {},
   "source": [
    "## Breakdown by government type, timing, and Subject\n",
    "There are a lot of different governments captured within the data. To facilitate analysis we can simplify the large number of categories into three big ones: cities, counties, and various special purpose governments. Counties, which proivde both regional and local services, have the most difficult time getting funding approved."
   ]
  },
  {
   "cell_type": "code",
   "execution_count": 10,
   "metadata": {},
   "outputs": [
    {
     "data": {
      "text/plain": [
       "City                                      481\n",
       "Fire Protection District                  425\n",
       "Park District                             161\n",
       "County                                    110\n",
       "Cemetery District                          60\n",
       "Public Hospital District                   58\n",
       "Transportation Benefit District            40\n",
       "Port District                              20\n",
       "Emergency Medical Services District        16\n",
       "Water-Sewer District                       14\n",
       "Library District                           13\n",
       "Public Transportation Benefit Area         13\n",
       "Public Facilities District                  7\n",
       "Solid Waste Disposal District               6\n",
       "Mosquito Control District                   4\n",
       "County Public Transportation Authority      2\n",
       "Public Utility District                     2\n",
       "Flood Control Zone District                 1\n",
       "Regional Transit Authority                  1\n",
       "Name: Government Type, dtype: int64"
      ]
     },
     "execution_count": 10,
     "metadata": {},
     "output_type": "execute_result"
    }
   ],
   "source": [
    "ballot['Government Type'].value_counts()"
   ]
  },
  {
   "cell_type": "code",
   "execution_count": 11,
   "metadata": {},
   "outputs": [
    {
     "data": {
      "text/plain": [
       "['City',\n",
       " 'Fire Protection District',\n",
       " 'Park District',\n",
       " 'County',\n",
       " 'Cemetery District',\n",
       " 'Public Hospital District',\n",
       " 'Transportation Benefit District',\n",
       " 'Port District',\n",
       " 'Emergency Medical Services District',\n",
       " 'Water-Sewer District',\n",
       " 'Library District',\n",
       " 'Public Transportation Benefit Area',\n",
       " 'Public Facilities District',\n",
       " 'Solid Waste Disposal District',\n",
       " 'Mosquito Control District',\n",
       " 'County Public Transportation Authority',\n",
       " 'Public Utility District',\n",
       " 'Flood Control Zone District',\n",
       " 'Regional Transit Authority']"
      ]
     },
     "execution_count": 11,
     "metadata": {},
     "output_type": "execute_result"
    }
   ],
   "source": [
    "values = list(ballot['Government Type'].value_counts().index)\n",
    "values    "
   ]
  },
  {
   "cell_type": "code",
   "execution_count": 12,
   "metadata": {
    "collapsed": true
   },
   "outputs": [],
   "source": [
    "city = values[0]\n",
    "county = values[3]\n",
    "govsimple = []\n",
    "\n",
    "for value in ballot['Government Type']:\n",
    "    if value in city:\n",
    "        govsimple.append('City')\n",
    "    else:\n",
    "        if value in county:\n",
    "            govsimple.append('County')\n",
    "        else:\n",
    "            govsimple.append('Special District')\n",
    "    "
   ]
  },
  {
   "cell_type": "code",
   "execution_count": 13,
   "metadata": {
    "collapsed": true
   },
   "outputs": [],
   "source": [
    "ballot['govsimple'] = govsimple"
   ]
  },
  {
   "cell_type": "code",
   "execution_count": 14,
   "metadata": {},
   "outputs": [
    {
     "data": {
      "image/png": "[encoded data removed]",
      "text/plain": [
       "<matplotlib.figure.Figure at 0x2689c2c7d30>"
      ]
     },
     "metadata": {},
     "output_type": "display_data"
    }
   ],
   "source": [
    "sns.factorplot(x='govsimple', y= 'Yes %', data=ballot)\n",
    "plt.title('Approval Rate by Government Type')\n",
    "plt.show()"
   ]
  },
  {
   "cell_type": "markdown",
   "metadata": {},
   "source": [
    "For election timing it seems that any non-November election is more likely to yield positive results. The year seems not to yield any predictable pattern."
   ]
  },
  {
   "cell_type": "code",
   "execution_count": 15,
   "metadata": {},
   "outputs": [
    {
     "data": {
      "image/png": "[encoded data removed]",
      "text/plain": [
       "<matplotlib.figure.Figure at 0x2689c336470>"
      ]
     },
     "metadata": {},
     "output_type": "display_data"
    }
   ],
   "source": [
    "# it would seem that counties have a harder time passing funding than cities\n",
    "# or special districts\n",
    "#Does the month of the election matter?\n",
    "sns.factorplot(x='Election Month', y= 'Yes %', data=ballot, size=5)\n",
    "plt.title('Approval Rate by Election Month')\n",
    "plt.show()"
   ]
  },
  {
   "cell_type": "code",
   "execution_count": 16,
   "metadata": {},
   "outputs": [
    {
     "data": {
      "image/png": "[encoded data removed]",
      "text/plain": [
       "<matplotlib.figure.Figure at 0x2689c346278>"
      ]
     },
     "metadata": {},
     "output_type": "display_data"
    }
   ],
   "source": [
    "sns.factorplot(x='Election Year', y= 'Yes %', data=ballot)\n",
    "plt.title('By Election Year')\n",
    "plt.show()\n",
    "#looks like 2011 was a bad year for funding"
   ]
  },
  {
   "cell_type": "code",
   "execution_count": 17,
   "metadata": {},
   "outputs": [
    {
     "data": {
      "text/plain": [
       "2016    252\n",
       "2015    247\n",
       "2017    213\n",
       "2013    211\n",
       "2012    205\n",
       "2014    195\n",
       "2011    111\n",
       "Name: Election Year, dtype: int64"
      ]
     },
     "execution_count": 17,
     "metadata": {},
     "output_type": "execute_result"
    }
   ],
   "source": [
    "#looking a little closer\n",
    "ballot['Election Year'].value_counts()"
   ]
  },
  {
   "cell_type": "markdown",
   "metadata": {},
   "source": [
    "Like government type, subject matter of the ballot measure needs to be simplified."
   ]
  },
  {
   "cell_type": "code",
   "execution_count": 18,
   "metadata": {},
   "outputs": [
    {
     "data": {
      "text/plain": [
       "['EMS',\n",
       " 'Parks and Recreation',\n",
       " 'Fire',\n",
       " 'Transportation',\n",
       " 'Other',\n",
       " 'Government Organization',\n",
       " 'Fire, EMS',\n",
       " 'Cemetery',\n",
       " 'Criminal Justice',\n",
       " 'Hospital',\n",
       " 'Library',\n",
       " 'Annexation, Fire',\n",
       " 'Water and Sewer',\n",
       " 'Annexation',\n",
       " 'Criminal Justice, Fire',\n",
       " 'Annexation, Library',\n",
       " 'Transportation, Water and Sewer, Other',\n",
       " 'Government Organization, Fire',\n",
       " 'Affordable Housing',\n",
       " 'Transportation, Criminal Justice',\n",
       " 'Annexation, Transportation',\n",
       " 'Criminal Justice, Other',\n",
       " 'Parks and Recreation, Other',\n",
       " 'Human Services',\n",
       " 'Criminal Justice, Fire, Parks and Recreation, Other',\n",
       " 'Fire, Other',\n",
       " 'Fire, EMS, Criminal Justice',\n",
       " 'Transportation, Parks and Recreation',\n",
       " 'Criminal Justice, Parks and Recreation, Other',\n",
       " 'Fire, EMS, Transportation, Criminal Justice, Other',\n",
       " 'Criminal Justice, Library, Parks and Recreation, Other',\n",
       " 'Transportation, Other',\n",
       " 'Criminal Justice, Human Services',\n",
       " 'Fire, Parks and Recreation, Other',\n",
       " 'Criminal Justice, Library, Parks and Recreation',\n",
       " 'Criminal Justice, Parks and Recreation',\n",
       " 'Fire, EMS, Transportation, Parks and Recreation, Criminal Justice',\n",
       " 'Government Organization, Criminal Justice',\n",
       " 'Annexation, Water-Sewer',\n",
       " 'Criminal Justice, Fire, Parks and Recreation, Transportation, Other',\n",
       " 'Government Organization, Other',\n",
       " 'Government Organization, Parks and Recreation']"
      ]
     },
     "execution_count": 18,
     "metadata": {},
     "output_type": "execute_result"
    }
   ],
   "source": [
    "import numpy as np\n",
    "subjects = list(ballot['Subject'].value_counts().index)\n",
    "subjects"
   ]
  },
  {
   "cell_type": "code",
   "execution_count": 19,
   "metadata": {
    "collapsed": true
   },
   "outputs": [],
   "source": [
    "parks = subjects[1]\n",
    "transit = subjects[3]\n",
    "govorg =subjects[5]\n",
    "cemetery=subjects[7]\n",
    "other=subjects[4]\n",
    "water=subjects[12]\n",
    "publicsafety = ['EMS', 'Fire', 'Fire, EMS', 'Criminal Justice']\n",
    "human = ['Hospital', 'Library', 'Affordable Housing', 'Human Services']\n",
    "annexation = ['Annexation, Fire', 'Annexation', 'Annexation, Library', 'Annexation, Transportation', 'Annexation, Water-Sewer']\n",
    "\n",
    "\n",
    "\n"
   ]
  },
  {
   "cell_type": "code",
   "execution_count": 20,
   "metadata": {},
   "outputs": [
    {
     "data": {
      "text/plain": [
       "'Parks and Recreation'"
      ]
     },
     "execution_count": 20,
     "metadata": {},
     "output_type": "execute_result"
    }
   ],
   "source": [
    "parks"
   ]
  },
  {
   "cell_type": "code",
   "execution_count": 21,
   "metadata": {
    "collapsed": true
   },
   "outputs": [],
   "source": [
    "subsimple = []\n",
    "for value in ballot['Subject']:\n",
    "    if value in parks:\n",
    "        subsimple.append('Parks')\n",
    "    else:\n",
    "        if value in transit:\n",
    "            subsimple.append('Transit')\n",
    "        else:\n",
    "            if value in govorg:\n",
    "                subsimple.append('Government Organization')\n",
    "            else: \n",
    "                if value in cemetery:\n",
    "                    subsimple.append('Cemetery')\n",
    "                else:\n",
    "                    if value in water:\n",
    "                        subsimple.append('Water/Sewer')\n",
    "                    else:\n",
    "                        if value in other:\n",
    "                            subsimple.append('Other')\n",
    "                        else:\n",
    "                            if value in publicsafety:\n",
    "                                subsimple.append('Public Safety')\n",
    "                            else:\n",
    "                                if value in human:\n",
    "                                    subsimple.append('Human Services')\n",
    "                                else:\n",
    "                                    if value in annexation:\n",
    "                                        subsimple.append('Annexation')\n",
    "                                    else:\n",
    "                                        subsimple.append('Multiple')\n",
    "                                \n",
    "                            \n"
   ]
  },
  {
   "cell_type": "code",
   "execution_count": 22,
   "metadata": {},
   "outputs": [],
   "source": [
    "ballot['subsimple'] = subsimple"
   ]
  },
  {
   "cell_type": "code",
   "execution_count": 23,
   "metadata": {
    "scrolled": true
   },
   "outputs": [
    {
     "data": {
      "image/png": "[encoded data removed]",
      "text/plain": [
       "<matplotlib.figure.Figure at 0x2689c440be0>"
      ]
     },
     "metadata": {},
     "output_type": "display_data"
    }
   ],
   "source": [
    "sns.factorplot(x='subsimple', y= 'Yes %', data=ballot,size=7, aspect=2)\n",
    "plt.title('By subject matter')\n",
    "plt.show()"
   ]
  },
  {
   "cell_type": "markdown",
   "metadata": {},
   "source": [
    "## Correlation and Regression Analysis"
   ]
  },
  {
   "cell_type": "code",
   "execution_count": 24,
   "metadata": {},
   "outputs": [
    {
     "data": {
      "text/plain": [
       "Jurisdiction                         object\n",
       "County                               object\n",
       "Government Type                      object\n",
       "Subject                              object\n",
       "Ballot Measure Text                  object\n",
       "Election Results                     object\n",
       "Yes %                               float64\n",
       "No %                                float64\n",
       "Election Month                       object\n",
       "Election Year                         int64\n",
       "Duration in Years Levy/Fee           object\n",
       "Amount of Levy (Per $1000 A/V)      float64\n",
       "Tax Amount                          float64\n",
       "Bond Amount                         float64\n",
       "Funding Type/Statutory Authority     object\n",
       "govsimple                            object\n",
       "subsimple                            object\n",
       "dtype: object"
      ]
     },
     "execution_count": 24,
     "metadata": {},
     "output_type": "execute_result"
    }
   ],
   "source": [
    "#time for some correlations\n",
    "ballot.dtypes"
   ]
  },
  {
   "cell_type": "code",
   "execution_count": 25,
   "metadata": {
    "collapsed": true
   },
   "outputs": [],
   "source": [
    "yes = ballot['Yes %']\n",
    "no = ballot['No %']\n",
    "duration = ballot['Duration in Years Levy/Fee']\n",
    "levy = ballot['Amount of Levy (Per $1000 A/V)']\n",
    "tax = ballot['Tax Amount']\n",
    "bond = ballot['Bond Amount']"
   ]
  },
  {
   "cell_type": "code",
   "execution_count": 26,
   "metadata": {
    "collapsed": true
   },
   "outputs": [],
   "source": [
    "data={'yes':yes, 'no':no, 'duration':duration, 'levy':levy, 'tax':tax, 'bond':bond}"
   ]
  },
  {
   "cell_type": "code",
   "execution_count": 27,
   "metadata": {
    "collapsed": true,
    "scrolled": true
   },
   "outputs": [],
   "source": [
    "ballotcorr = pd.DataFrame.from_dict(data)"
   ]
  },
  {
   "cell_type": "code",
   "execution_count": 28,
   "metadata": {
    "collapsed": true
   },
   "outputs": [],
   "source": [
    "#looks like duration is going to be a problem so lets drop it as a variable\n",
    "ballotcorr.drop('duration',axis=1,inplace=True)"
   ]
  },
  {
   "cell_type": "code",
   "execution_count": 29,
   "metadata": {},
   "outputs": [
    {
     "data": {
      "text/html": [
       "<div>\n",
       "<style>\n",
       "    .dataframe thead tr:only-child th {\n",
       "        text-align: right;\n",
       "    }\n",
       "\n",
       "    .dataframe thead th {\n",
       "        text-align: left;\n",
       "    }\n",
       "\n",
       "    .dataframe tbody tr th {\n",
       "        vertical-align: top;\n",
       "    }\n",
       "</style>\n",
       "<table border=\"1\" class=\"dataframe\">\n",
       "  <thead>\n",
       "    <tr style=\"text-align: right;\">\n",
       "      <th></th>\n",
       "      <th>bond</th>\n",
       "      <th>levy</th>\n",
       "      <th>no</th>\n",
       "      <th>tax</th>\n",
       "      <th>yes</th>\n",
       "    </tr>\n",
       "  </thead>\n",
       "  <tbody>\n",
       "    <tr>\n",
       "      <th>bond</th>\n",
       "      <td>1.000000</td>\n",
       "      <td>NaN</td>\n",
       "      <td>-0.075546</td>\n",
       "      <td>NaN</td>\n",
       "      <td>0.075543</td>\n",
       "    </tr>\n",
       "    <tr>\n",
       "      <th>levy</th>\n",
       "      <td>NaN</td>\n",
       "      <td>1.000000</td>\n",
       "      <td>0.141061</td>\n",
       "      <td>-1.000000</td>\n",
       "      <td>-0.137931</td>\n",
       "    </tr>\n",
       "    <tr>\n",
       "      <th>no</th>\n",
       "      <td>-0.075546</td>\n",
       "      <td>0.141061</td>\n",
       "      <td>1.000000</td>\n",
       "      <td>-0.254060</td>\n",
       "      <td>-0.979699</td>\n",
       "    </tr>\n",
       "    <tr>\n",
       "      <th>tax</th>\n",
       "      <td>NaN</td>\n",
       "      <td>-1.000000</td>\n",
       "      <td>-0.254060</td>\n",
       "      <td>1.000000</td>\n",
       "      <td>0.254068</td>\n",
       "    </tr>\n",
       "    <tr>\n",
       "      <th>yes</th>\n",
       "      <td>0.075543</td>\n",
       "      <td>-0.137931</td>\n",
       "      <td>-0.979699</td>\n",
       "      <td>0.254068</td>\n",
       "      <td>1.000000</td>\n",
       "    </tr>\n",
       "  </tbody>\n",
       "</table>\n",
       "</div>"
      ],
      "text/plain": [
       "          bond      levy        no       tax       yes\n",
       "bond  1.000000       NaN -0.075546       NaN  0.075543\n",
       "levy       NaN  1.000000  0.141061 -1.000000 -0.137931\n",
       "no   -0.075546  0.141061  1.000000 -0.254060 -0.979699\n",
       "tax        NaN -1.000000 -0.254060  1.000000  0.254068\n",
       "yes   0.075543 -0.137931 -0.979699  0.254068  1.000000"
      ]
     },
     "execution_count": 29,
     "metadata": {},
     "output_type": "execute_result"
    }
   ],
   "source": [
    "ballotcorr.corr('pearson', 1)"
   ]
  },
  {
   "cell_type": "code",
   "execution_count": 30,
   "metadata": {},
   "outputs": [
    {
     "data": {
      "image/png": "[encoded data removed]",
      "text/plain": [
       "<matplotlib.figure.Figure at 0x2689c440b70>"
      ]
     },
     "metadata": {},
     "output_type": "display_data"
    }
   ],
   "source": [
    "pd.plotting.scatter_matrix(ballotcorr,figsize=(12,12))\n",
    "plt.show()"
   ]
  },
  {
   "cell_type": "code",
   "execution_count": 31,
   "metadata": {
    "collapsed": true
   },
   "outputs": [],
   "source": [
    "# alright it looks like only certain types of funding respond at all to the amount being asked for"
   ]
  },
  {
   "cell_type": "code",
   "execution_count": 32,
   "metadata": {
    "collapsed": true
   },
   "outputs": [],
   "source": [
    "#in order to have a good regression we need to turn some variables into dummy variables"
   ]
  },
  {
   "cell_type": "code",
   "execution_count": 33,
   "metadata": {},
   "outputs": [
    {
     "data": {
      "text/plain": [
       "EMS                                                                    214\n",
       "Parks and Recreation                                                   200\n",
       "Fire                                                                   190\n",
       "Transportation                                                         134\n",
       "Other                                                                  117\n",
       "Government Organization                                                115\n",
       "Fire, EMS                                                              114\n",
       "Cemetery                                                                60\n",
       "Criminal Justice                                                        55\n",
       "Hospital                                                                44\n",
       "Library                                                                 32\n",
       "Annexation, Fire                                                        32\n",
       "Water and Sewer                                                         23\n",
       "Annexation                                                              18\n",
       "Criminal Justice, Fire                                                  15\n",
       "Annexation, Library                                                      9\n",
       "Transportation, Water and Sewer, Other                                   7\n",
       "Government Organization, Fire                                            6\n",
       "Affordable Housing                                                       5\n",
       "Transportation, Criminal Justice                                         4\n",
       "Annexation, Transportation                                               4\n",
       "Criminal Justice, Other                                                  4\n",
       "Parks and Recreation, Other                                              3\n",
       "Human Services                                                           3\n",
       "Criminal Justice, Fire, Parks and Recreation, Other                      3\n",
       "Fire, Other                                                              3\n",
       "Fire, EMS, Criminal Justice                                              3\n",
       "Transportation, Parks and Recreation                                     2\n",
       "Criminal Justice, Parks and Recreation, Other                            2\n",
       "Fire, EMS, Transportation, Criminal Justice, Other                       1\n",
       "Criminal Justice, Library, Parks and Recreation, Other                   1\n",
       "Transportation, Other                                                    1\n",
       "Criminal Justice, Human Services                                         1\n",
       "Fire, Parks and Recreation, Other                                        1\n",
       "Criminal Justice, Library, Parks and Recreation                          1\n",
       "Criminal Justice, Parks and Recreation                                   1\n",
       "Fire, EMS, Transportation, Parks and Recreation, Criminal Justice        1\n",
       "Government Organization, Criminal Justice                                1\n",
       "Annexation, Water-Sewer                                                  1\n",
       "Criminal Justice, Fire, Parks and Recreation, Transportation, Other      1\n",
       "Government Organization, Other                                           1\n",
       "Government Organization, Parks and Recreation                            1\n",
       "Name: Subject, dtype: int64"
      ]
     },
     "execution_count": 33,
     "metadata": {},
     "output_type": "execute_result"
    }
   ],
   "source": [
    "ballot['Subject'].value_counts()"
   ]
  },
  {
   "cell_type": "code",
   "execution_count": 34,
   "metadata": {},
   "outputs": [
    {
     "data": {
      "text/plain": [
       "Public Safety              573\n",
       "Parks                      200\n",
       "Transit                    134\n",
       "Other                      117\n",
       "Government Organization    115\n",
       "Human Services              84\n",
       "Annexation                  64\n",
       "Multiple                    64\n",
       "Cemetery                    60\n",
       "Water/Sewer                 23\n",
       "Name: subsimple, dtype: int64"
      ]
     },
     "execution_count": 34,
     "metadata": {},
     "output_type": "execute_result"
    }
   ],
   "source": [
    "ballot['subsimple'].value_counts()"
   ]
  },
  {
   "cell_type": "code",
   "execution_count": 35,
   "metadata": {},
   "outputs": [
    {
     "data": {
      "text/plain": [
       "['November', 'August', 'February', 'April', 'NOVEMBER']"
      ]
     },
     "execution_count": 35,
     "metadata": {},
     "output_type": "execute_result"
    }
   ],
   "source": [
    "#dummy recodes\n",
    "#1 - election month\n",
    "months = list(ballot['Election Month'].value_counts().index)\n",
    "months"
   ]
  },
  {
   "cell_type": "code",
   "execution_count": 36,
   "metadata": {
    "collapsed": true
   },
   "outputs": [],
   "source": [
    "november = months[0]\n",
    "august = months[1]\n",
    "february = months[2]\n",
    "april = months[3]\n",
    "novembercap = months[4]\n",
    "\n",
    "isnovember = []\n",
    "for value in ballot['Election Month']:\n",
    "    if value in november or novembercap:\n",
    "        isnovember.append(1)\n",
    "    else:\n",
    "        isnovember.append(0)\n",
    "\n",
    "ballot['isnovember'] = isnovember\n",
    "\n",
    "isaugust =[]\n",
    "for value in ballot['Election Month']:\n",
    "    if value in august:\n",
    "        isaugust.append(1)\n",
    "    else:\n",
    "        isaugust.append(0)\n",
    "\n",
    "ballot['isaugust'] = isaugust\n",
    "\n",
    "isfebruary =[]\n",
    "for value in ballot['Election Month']:\n",
    "    if value in february:\n",
    "        isfebruary.append(1)\n",
    "    else:\n",
    "        isfebruary.append(0)\n",
    "\n",
    "ballot['isfebruary'] = isfebruary\n",
    "\n",
    "isapril =[]\n",
    "for value in ballot['Election Month']:\n",
    "    if value in april:\n",
    "        isapril.append(1)\n",
    "    else:\n",
    "        isapril.append(0)\n",
    "\n",
    "ballot['isapril'] = isapril"
   ]
  },
  {
   "cell_type": "code",
   "execution_count": 37,
   "metadata": {},
   "outputs": [
    {
     "data": {
      "text/plain": [
       "['Passed', 'Failed', 'Advisory']"
      ]
     },
     "execution_count": 37,
     "metadata": {},
     "output_type": "execute_result"
    }
   ],
   "source": [
    "#recoding election results as a dummy variable\n",
    "result = list(ballot['Election Results'].value_counts().index)\n",
    "result\n"
   ]
  },
  {
   "cell_type": "code",
   "execution_count": 38,
   "metadata": {
    "collapsed": true
   },
   "outputs": [],
   "source": [
    "passing=result[0]\n",
    "failing=result[1]\n",
    "passed=[]\n",
    "for value in ballot['Election Results']:\n",
    "    if value in passing:\n",
    "        passed.append(1)\n",
    "    else:\n",
    "        if value in failing:\n",
    "            passed.append(0)\n",
    "        else:\n",
    "            passed.append(None)\n",
    "            \n",
    "ballot['passed']=passed\n"
   ]
  },
  {
   "cell_type": "code",
   "execution_count": 39,
   "metadata": {
    "collapsed": true
   },
   "outputs": [],
   "source": [
    "ballot['levy']=ballot['Amount of Levy (Per $1000 A/V)']\n",
    "ballot['salestax'] = ballot['Tax Amount']\n",
    "ballot['bondamt'] = ballot['Bond Amount']"
   ]
  },
  {
   "cell_type": "code",
   "execution_count": 40,
   "metadata": {},
   "outputs": [
    {
     "data": {
      "text/plain": [
       "Jurisdiction                         object\n",
       "County                               object\n",
       "Government Type                      object\n",
       "Subject                              object\n",
       "Ballot Measure Text                  object\n",
       "Election Results                     object\n",
       "Yes %                               float64\n",
       "No %                                float64\n",
       "Election Month                       object\n",
       "Election Year                         int64\n",
       "Duration in Years Levy/Fee           object\n",
       "Amount of Levy (Per $1000 A/V)      float64\n",
       "Tax Amount                          float64\n",
       "Bond Amount                         float64\n",
       "Funding Type/Statutory Authority     object\n",
       "govsimple                            object\n",
       "subsimple                            object\n",
       "isnovember                            int64\n",
       "isaugust                              int64\n",
       "isfebruary                            int64\n",
       "isapril                               int64\n",
       "passed                              float64\n",
       "levy                                float64\n",
       "salestax                            float64\n",
       "bondamt                             float64\n",
       "dtype: object"
      ]
     },
     "execution_count": 40,
     "metadata": {},
     "output_type": "execute_result"
    }
   ],
   "source": [
    "ballot.dtypes"
   ]
  },
  {
   "cell_type": "code",
   "execution_count": 41,
   "metadata": {},
   "outputs": [
    {
     "data": {
      "text/html": [
       "<div>\n",
       "<style>\n",
       "    .dataframe thead tr:only-child th {\n",
       "        text-align: right;\n",
       "    }\n",
       "\n",
       "    .dataframe thead th {\n",
       "        text-align: left;\n",
       "    }\n",
       "\n",
       "    .dataframe tbody tr th {\n",
       "        vertical-align: top;\n",
       "    }\n",
       "</style>\n",
       "<table border=\"1\" class=\"dataframe\">\n",
       "  <thead>\n",
       "    <tr style=\"text-align: right;\">\n",
       "      <th></th>\n",
       "      <th>isfebruary</th>\n",
       "      <th>isapril</th>\n",
       "      <th>passed</th>\n",
       "      <th>levy</th>\n",
       "      <th>salestax</th>\n",
       "      <th>bondamt</th>\n",
       "    </tr>\n",
       "  </thead>\n",
       "  <tbody>\n",
       "    <tr>\n",
       "      <th>isfebruary</th>\n",
       "      <td>1.000000</td>\n",
       "      <td>-0.084309</td>\n",
       "      <td>0.069492</td>\n",
       "      <td>0.036321</td>\n",
       "      <td>-0.046923</td>\n",
       "      <td>-0.081322</td>\n",
       "    </tr>\n",
       "    <tr>\n",
       "      <th>isapril</th>\n",
       "      <td>-0.084309</td>\n",
       "      <td>1.000000</td>\n",
       "      <td>0.034492</td>\n",
       "      <td>-0.071166</td>\n",
       "      <td>0.367510</td>\n",
       "      <td>0.117694</td>\n",
       "    </tr>\n",
       "    <tr>\n",
       "      <th>passed</th>\n",
       "      <td>0.069492</td>\n",
       "      <td>0.034492</td>\n",
       "      <td>1.000000</td>\n",
       "      <td>-0.061768</td>\n",
       "      <td>0.079036</td>\n",
       "      <td>0.052004</td>\n",
       "    </tr>\n",
       "    <tr>\n",
       "      <th>levy</th>\n",
       "      <td>0.036321</td>\n",
       "      <td>-0.071166</td>\n",
       "      <td>-0.061768</td>\n",
       "      <td>1.000000</td>\n",
       "      <td>-1.000000</td>\n",
       "      <td>NaN</td>\n",
       "    </tr>\n",
       "    <tr>\n",
       "      <th>salestax</th>\n",
       "      <td>-0.046923</td>\n",
       "      <td>0.367510</td>\n",
       "      <td>0.079036</td>\n",
       "      <td>-1.000000</td>\n",
       "      <td>1.000000</td>\n",
       "      <td>NaN</td>\n",
       "    </tr>\n",
       "    <tr>\n",
       "      <th>bondamt</th>\n",
       "      <td>-0.081322</td>\n",
       "      <td>0.117694</td>\n",
       "      <td>0.052004</td>\n",
       "      <td>NaN</td>\n",
       "      <td>NaN</td>\n",
       "      <td>1.000000</td>\n",
       "    </tr>\n",
       "  </tbody>\n",
       "</table>\n",
       "</div>"
      ],
      "text/plain": [
       "            isfebruary   isapril    passed      levy  salestax   bondamt\n",
       "isfebruary    1.000000 -0.084309  0.069492  0.036321 -0.046923 -0.081322\n",
       "isapril      -0.084309  1.000000  0.034492 -0.071166  0.367510  0.117694\n",
       "passed        0.069492  0.034492  1.000000 -0.061768  0.079036  0.052004\n",
       "levy          0.036321 -0.071166 -0.061768  1.000000 -1.000000       NaN\n",
       "salestax     -0.046923  0.367510  0.079036 -1.000000  1.000000       NaN\n",
       "bondamt      -0.081322  0.117694  0.052004       NaN       NaN  1.000000"
      ]
     },
     "execution_count": 41,
     "metadata": {},
     "output_type": "execute_result"
    }
   ],
   "source": [
    "#now that the relavent variables are ready lets see if the x's are correlated\n",
    "xvars = ballot.columns[[19,20,21,22,23,24]]\n",
    "ballot[xvars].corr()"
   ]
  },
  {
   "cell_type": "code",
   "execution_count": 42,
   "metadata": {},
   "outputs": [
    {
     "name": "stdout",
     "output_type": "stream",
     "text": [
      "                            OLS Regression Results                            \n",
      "==============================================================================\n",
      "Dep. Variable:                 passed   R-squared:                       0.039\n",
      "Model:                            OLS   Adj. R-squared:                  0.035\n",
      "Method:                 Least Squares   F-statistic:                     8.985\n",
      "Date:                Tue, 06 Mar 2018   Prob (F-statistic):           4.10e-07\n",
      "Time:                        10:18:03   Log-Likelihood:                -407.80\n",
      "No. Observations:                 887   AIC:                             825.6\n",
      "Df Residuals:                     882   BIC:                             849.5\n",
      "Df Model:                           4                                         \n",
      "Covariance Type:            nonrobust                                         \n",
      "==============================================================================\n",
      "                 coef    std err          t      P>|t|      [0.025      0.975]\n",
      "------------------------------------------------------------------------------\n",
      "Intercept      0.7832      0.023     34.384      0.000       0.738       0.828\n",
      "levy          -0.0379      0.019     -1.989      0.047      -0.075      -0.001\n",
      "isaugust       0.1188      0.029      4.051      0.000       0.061       0.176\n",
      "isfebruary     0.1923      0.050      3.874      0.000       0.095       0.290\n",
      "isapril        0.1965      0.059      3.317      0.001       0.080       0.313\n",
      "==============================================================================\n",
      "Omnibus:                      191.966   Durbin-Watson:                   1.529\n",
      "Prob(Omnibus):                  0.000   Jarque-Bera (JB):              332.134\n",
      "Skew:                          -1.483   Prob(JB):                     7.55e-73\n",
      "Kurtosis:                       3.431   Cond. No.                         6.63\n",
      "==============================================================================\n",
      "\n",
      "Warnings:\n",
      "[1] Standard Errors assume that the covariance matrix of the errors is correctly specified.\n"
     ]
    }
   ],
   "source": [
    "#looks like we are in the clear, lets run the regression on 'passed'\n",
    "import statsmodels.formula.api as smf\n",
    "formulalevy='passed ~ levy + isaugust + isfebruary + isapril'\n",
    "levylogit = smf.ols(formulalevy,data=ballot).fit()\n",
    "print(levylogit.summary())"
   ]
  },
  {
   "cell_type": "code",
   "execution_count": 43,
   "metadata": {},
   "outputs": [
    {
     "name": "stdout",
     "output_type": "stream",
     "text": [
      "                            OLS Regression Results                            \n",
      "==============================================================================\n",
      "Dep. Variable:                 passed   R-squared:                       0.057\n",
      "Model:                            OLS   Adj. R-squared:                  0.026\n",
      "Method:                 Least Squares   F-statistic:                     1.805\n",
      "Date:                Tue, 06 Mar 2018   Prob (F-statistic):              0.132\n",
      "Time:                        10:18:04   Log-Likelihood:                -76.281\n",
      "No. Observations:                 124   AIC:                             162.6\n",
      "Df Residuals:                     119   BIC:                             176.7\n",
      "Df Model:                           4                                         \n",
      "Covariance Type:            nonrobust                                         \n",
      "==============================================================================\n",
      "                 coef    std err          t      P>|t|      [0.025      0.975]\n",
      "------------------------------------------------------------------------------\n",
      "Intercept      0.6567      0.052     12.514      0.000       0.553       0.761\n",
      "salestax       0.3356      0.708      0.474      0.637      -1.067       1.739\n",
      "isaugust      -0.0673      0.111     -0.608      0.544      -0.286       0.152\n",
      "isfebruary     0.3425      0.161      2.126      0.036       0.024       0.661\n",
      "isapril        0.1433      0.131      1.091      0.278      -0.117       0.403\n",
      "==============================================================================\n",
      "Omnibus:                      105.612   Durbin-Watson:                   1.626\n",
      "Prob(Omnibus):                  0.000   Jarque-Bera (JB):               19.458\n",
      "Skew:                          -0.705   Prob(JB):                     5.95e-05\n",
      "Kurtosis:                       1.667   Cond. No.                         17.8\n",
      "==============================================================================\n",
      "\n",
      "Warnings:\n",
      "[1] Standard Errors assume that the covariance matrix of the errors is correctly specified.\n"
     ]
    }
   ],
   "source": [
    "import statsmodels.formula.api as smf\n",
    "formulasales='passed ~ salestax + isaugust + isfebruary + isapril'\n",
    "saleslogit = smf.ols(formulasales,data=ballot).fit()\n",
    "print(saleslogit.summary())"
   ]
  },
  {
   "cell_type": "code",
   "execution_count": 44,
   "metadata": {},
   "outputs": [
    {
     "name": "stdout",
     "output_type": "stream",
     "text": [
      "                            OLS Regression Results                            \n",
      "==============================================================================\n",
      "Dep. Variable:                 passed   R-squared:                       0.050\n",
      "Model:                            OLS   Adj. R-squared:                  0.011\n",
      "Method:                 Least Squares   F-statistic:                     1.268\n",
      "Date:                Tue, 06 Mar 2018   Prob (F-statistic):              0.288\n",
      "Time:                        10:18:04   Log-Likelihood:                -68.473\n",
      "No. Observations:                 101   AIC:                             146.9\n",
      "Df Residuals:                      96   BIC:                             160.0\n",
      "Df Model:                           4                                         \n",
      "Covariance Type:            nonrobust                                         \n",
      "==============================================================================\n",
      "                 coef    std err          t      P>|t|      [0.025      0.975]\n",
      "------------------------------------------------------------------------------\n",
      "Intercept      0.6072      0.070      8.693      0.000       0.469       0.746\n",
      "bondamt     6.442e-10   1.36e-09      0.475      0.636   -2.05e-09    3.34e-09\n",
      "isaugust      -0.1916      0.131     -1.467      0.146      -0.451       0.068\n",
      "isfebruary     0.2063      0.162      1.273      0.206      -0.115       0.528\n",
      "isapril        0.0013      0.139      0.010      0.992      -0.275       0.278\n",
      "==============================================================================\n",
      "Omnibus:                        2.691   Durbin-Watson:                   2.221\n",
      "Prob(Omnibus):                  0.260   Jarque-Bera (JB):               13.960\n",
      "Skew:                          -0.387   Prob(JB):                     0.000930\n",
      "Kurtosis:                       1.351   Cond. No.                     1.47e+08\n",
      "==============================================================================\n",
      "\n",
      "Warnings:\n",
      "[1] Standard Errors assume that the covariance matrix of the errors is correctly specified.\n",
      "[2] The condition number is large, 1.47e+08. This might indicate that there are\n",
      "strong multicollinearity or other numerical problems.\n"
     ]
    }
   ],
   "source": [
    "import statsmodels.formula.api as smf\n",
    "formulabond='passed ~ bondamt + isaugust + isfebruary + isapril'\n",
    "bondlogit = smf.ols(formulabond,data=ballot).fit()\n",
    "print(bondlogit.summary())"
   ]
  },
  {
   "cell_type": "code",
   "execution_count": 45,
   "metadata": {},
   "outputs": [
    {
     "data": {
      "text/plain": [
       "False"
      ]
     },
     "execution_count": 45,
     "metadata": {},
     "output_type": "execute_result"
    }
   ],
   "source": [
    "#Moving along to clustering\n",
    "#first step is to find a unique unit\n",
    "len(ballot['Ballot Measure Text'].unique())==len(ballot['Ballot Measure Text'])"
   ]
  },
  {
   "cell_type": "code",
   "execution_count": 46,
   "metadata": {
    "collapsed": true
   },
   "outputs": [],
   "source": [
    "import geopandas as gpd"
   ]
  },
  {
   "cell_type": "code",
   "execution_count": 47,
   "metadata": {
    "collapsed": true
   },
   "outputs": [],
   "source": [
    "compressedmap = 'https://github.com/nbennett4025/Data/raw/master/WAOFM.zip'"
   ]
  },
  {
   "cell_type": "code",
   "execution_count": 48,
   "metadata": {
    "scrolled": true
   },
   "outputs": [
    {
     "ename": "OSError",
     "evalue": "no such file or directory: 'github.com/nbennett4025/Data/raw/master/WAOFM.zip'",
     "output_type": "error",
     "traceback": [
      "\u001b[1;31m---------------------------------------------------------------------------\u001b[0m",
      "\u001b[1;31mOSError\u001b[0m                                   Traceback (most recent call last)",
      "\u001b[1;32m<ipython-input-48-66060fb1ae91>\u001b[0m in \u001b[0;36m<module>\u001b[1;34m()\u001b[0m\n\u001b[1;32m----> 1\u001b[1;33m \u001b[0mcountymap\u001b[0m \u001b[1;33m=\u001b[0m \u001b[0mgpd\u001b[0m\u001b[1;33m.\u001b[0m\u001b[0mGeoDataFrame\u001b[0m\u001b[1;33m.\u001b[0m\u001b[0mfrom_file\u001b[0m\u001b[1;33m(\u001b[0m\u001b[0mcompressedmap\u001b[0m\u001b[1;33m)\u001b[0m\u001b[1;33m\u001b[0m\u001b[0m\n\u001b[0m",
      "\u001b[1;32m~\\Anaconda3\\lib\\site-packages\\geopandas\\geodataframe.py\u001b[0m in \u001b[0;36mfrom_file\u001b[1;34m(cls, filename, **kwargs)\u001b[0m\n\u001b[0;32m    165\u001b[0m \u001b[1;33m\u001b[0m\u001b[0m\n\u001b[0;32m    166\u001b[0m         \"\"\"\n\u001b[1;32m--> 167\u001b[1;33m         \u001b[1;32mreturn\u001b[0m \u001b[0mgeopandas\u001b[0m\u001b[1;33m.\u001b[0m\u001b[0mio\u001b[0m\u001b[1;33m.\u001b[0m\u001b[0mfile\u001b[0m\u001b[1;33m.\u001b[0m\u001b[0mread_file\u001b[0m\u001b[1;33m(\u001b[0m\u001b[0mfilename\u001b[0m\u001b[1;33m,\u001b[0m \u001b[1;33m**\u001b[0m\u001b[0mkwargs\u001b[0m\u001b[1;33m)\u001b[0m\u001b[1;33m\u001b[0m\u001b[0m\n\u001b[0m\u001b[0;32m    168\u001b[0m \u001b[1;33m\u001b[0m\u001b[0m\n\u001b[0;32m    169\u001b[0m     \u001b[1;33m@\u001b[0m\u001b[0mclassmethod\u001b[0m\u001b[1;33m\u001b[0m\u001b[0m\n",
      "\u001b[1;32m~\\Anaconda3\\lib\\site-packages\\geopandas\\io\\file.py\u001b[0m in \u001b[0;36mread_file\u001b[1;34m(filename, **kwargs)\u001b[0m\n\u001b[0;32m     17\u001b[0m     \"\"\"\n\u001b[0;32m     18\u001b[0m     \u001b[0mbbox\u001b[0m \u001b[1;33m=\u001b[0m \u001b[0mkwargs\u001b[0m\u001b[1;33m.\u001b[0m\u001b[0mpop\u001b[0m\u001b[1;33m(\u001b[0m\u001b[1;34m'bbox'\u001b[0m\u001b[1;33m,\u001b[0m \u001b[1;32mNone\u001b[0m\u001b[1;33m)\u001b[0m\u001b[1;33m\u001b[0m\u001b[0m\n\u001b[1;32m---> 19\u001b[1;33m     \u001b[1;32mwith\u001b[0m \u001b[0mfiona\u001b[0m\u001b[1;33m.\u001b[0m\u001b[0mopen\u001b[0m\u001b[1;33m(\u001b[0m\u001b[0mfilename\u001b[0m\u001b[1;33m,\u001b[0m \u001b[1;33m**\u001b[0m\u001b[0mkwargs\u001b[0m\u001b[1;33m)\u001b[0m \u001b[1;32mas\u001b[0m \u001b[0mf\u001b[0m\u001b[1;33m:\u001b[0m\u001b[1;33m\u001b[0m\u001b[0m\n\u001b[0m\u001b[0;32m     20\u001b[0m         \u001b[0mcrs\u001b[0m \u001b[1;33m=\u001b[0m \u001b[0mf\u001b[0m\u001b[1;33m.\u001b[0m\u001b[0mcrs\u001b[0m\u001b[1;33m\u001b[0m\u001b[0m\n\u001b[0;32m     21\u001b[0m         \u001b[1;32mif\u001b[0m \u001b[0mbbox\u001b[0m \u001b[1;32mis\u001b[0m \u001b[1;32mnot\u001b[0m \u001b[1;32mNone\u001b[0m\u001b[1;33m:\u001b[0m\u001b[1;33m\u001b[0m\u001b[0m\n",
      "\u001b[1;32m~\\Anaconda3\\lib\\site-packages\\fiona\\__init__.py\u001b[0m in \u001b[0;36mopen\u001b[1;34m(path, mode, driver, schema, crs, encoding, layer, vfs, enabled_drivers, crs_wkt)\u001b[0m\n\u001b[0;32m    160\u001b[0m                 \u001b[1;32mraise\u001b[0m \u001b[0mIOError\u001b[0m\u001b[1;33m(\u001b[0m\u001b[1;34m\"no such archive file: %r\"\u001b[0m \u001b[1;33m%\u001b[0m \u001b[0marchive\u001b[0m\u001b[1;33m)\u001b[0m\u001b[1;33m\u001b[0m\u001b[0m\n\u001b[0;32m    161\u001b[0m         \u001b[1;32melif\u001b[0m \u001b[0mpath\u001b[0m \u001b[1;33m!=\u001b[0m \u001b[1;34m'-'\u001b[0m \u001b[1;32mand\u001b[0m \u001b[1;32mnot\u001b[0m \u001b[0mos\u001b[0m\u001b[1;33m.\u001b[0m\u001b[0mpath\u001b[0m\u001b[1;33m.\u001b[0m\u001b[0mexists\u001b[0m\u001b[1;33m(\u001b[0m\u001b[0mpath\u001b[0m\u001b[1;33m)\u001b[0m\u001b[1;33m:\u001b[0m\u001b[1;33m\u001b[0m\u001b[0m\n\u001b[1;32m--> 162\u001b[1;33m             \u001b[1;32mraise\u001b[0m \u001b[0mIOError\u001b[0m\u001b[1;33m(\u001b[0m\u001b[1;34m\"no such file or directory: %r\"\u001b[0m \u001b[1;33m%\u001b[0m \u001b[0mpath\u001b[0m\u001b[1;33m)\u001b[0m\u001b[1;33m\u001b[0m\u001b[0m\n\u001b[0m\u001b[0;32m    163\u001b[0m         c = Collection(path, mode, driver=driver, encoding=encoding,\n\u001b[0;32m    164\u001b[0m                        \u001b[0mlayer\u001b[0m\u001b[1;33m=\u001b[0m\u001b[0mlayer\u001b[0m\u001b[1;33m,\u001b[0m \u001b[0mvsi\u001b[0m\u001b[1;33m=\u001b[0m\u001b[0mvsi\u001b[0m\u001b[1;33m,\u001b[0m \u001b[0marchive\u001b[0m\u001b[1;33m=\u001b[0m\u001b[0marchive\u001b[0m\u001b[1;33m,\u001b[0m\u001b[1;33m\u001b[0m\u001b[0m\n",
      "\u001b[1;31mOSError\u001b[0m: no such file or directory: 'github.com/nbennett4025/Data/raw/master/WAOFM.zip'"
     ]
    }
   ],
   "source": [
    "countymap = gpd.GeoDataFrame.from_file(compressedmap)"
   ]
  },
  {
   "cell_type": "code",
   "execution_count": null,
   "metadata": {
    "collapsed": true
   },
   "outputs": [],
   "source": []
  }
 ],
 "metadata": {
  "kernelspec": {
   "display_name": "Python 3",
   "language": "python",
   "name": "python3"
  },
  "language_info": {
   "codemirror_mode": {
    "name": "ipython",
    "version": 3
   },
   "file_extension": ".py",
   "mimetype": "text/x-python",
   "name": "python",
   "nbconvert_exporter": "python",
   "pygments_lexer": "ipython3",
   "version": "3.6.3"
  }
 },
 "nbformat": 4,
 "nbformat_minor": 2
}
